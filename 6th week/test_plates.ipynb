{
 "cells": [
  {
   "cell_type": "code",
   "execution_count": null,
   "metadata": {},
   "outputs": [],
   "source": [
    "from plates import is_valid\n",
    "\n",
    "def test_start():\n",
    "    assert is_valid('ABCDEF') == True\n",
    "    assert is_valid('1ABCDE') == False\n",
    "    assert is_valid('A3CDEF') == False\n",
    "    assert is_valid('63CDEF') == False\n",
    "\n",
    "def test_length():\n",
    "    assert is_valid('ABCDEF') == True\n",
    "    assert is_valid('ABCDE') == True\n",
    "    assert is_valid('ABC') == True\n",
    "    assert is_valid('AB') == True\n",
    "    assert is_valid('A') == False\n",
    "\n",
    "def test_numbers():\n",
    "    assert is_valid('ABC123') == True\n",
    "    assert is_valid('ABCD12') == True\n",
    "    assert is_valid('ABCDE1') == True\n",
    "    assert is_valid('AB23EF') == False\n",
    "    assert is_valid('ABC23F') == False\n",
    "    assert is_valid(\"AA\") == True\n",
    "    assert is_valid(\"A2\") == False\n",
    "    assert is_valid(\"2A\") == False\n",
    "    assert is_valid(\"22\") == False\n",
    "    assert is_valid(\" 2\") == False\n",
    "\n",
    "def test_zero():\n",
    "    assert is_valid('ABC102') == True\n",
    "    assert is_valid('CS50') == True\n",
    "    assert is_valid('ABC012') == False\n",
    "    assert is_valid('ABCD01') == False\n",
    "\n",
    "def test_punc():\n",
    "    assert is_valid('ABC,23') == False\n",
    "    assert is_valid('ABC 23') == False\n",
    "    assert is_valid('ABC.12') == False\n",
    "    assert is_valid('AB:12') == False\n",
    "    assert is_valid('AB/45') == False\n"
   ]
  }
 ],
 "metadata": {
  "language_info": {
   "name": "python"
  }
 },
 "nbformat": 4,
 "nbformat_minor": 2
}
