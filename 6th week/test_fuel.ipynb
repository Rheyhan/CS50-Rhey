{
 "cells": [
  {
   "cell_type": "code",
   "execution_count": 3,
   "metadata": {},
   "outputs": [],
   "source": [
    "from fuel import convert, gauge\n",
    "import pytest\n",
    "\n",
    "def test():\n",
    "    assert convert(\"1/2\") == 50\n",
    "    assert gauge(50) == \"50%\"\n",
    "    assert gauge(99) == \"F\"\n",
    "    assert gauge(1) == \"E\"\n",
    "\n",
    "def test_ve():\n",
    "    with pytest.raises(ValueError):\n",
    "        convert(\"s/d\")\n",
    "        convert(\"s/50\")\n",
    "    with pytest.raises(ZeroDivisionError):\n",
    "        convert(\"1/0\")"
   ]
  }
 ],
 "metadata": {
  "kernelspec": {
   "display_name": "Python 3",
   "language": "python",
   "name": "python3"
  },
  "language_info": {
   "codemirror_mode": {
    "name": "ipython",
    "version": 3
   },
   "file_extension": ".py",
   "mimetype": "text/x-python",
   "name": "python",
   "nbconvert_exporter": "python",
   "pygments_lexer": "ipython3",
   "version": "3.11.7"
  }
 },
 "nbformat": 4,
 "nbformat_minor": 2
}
