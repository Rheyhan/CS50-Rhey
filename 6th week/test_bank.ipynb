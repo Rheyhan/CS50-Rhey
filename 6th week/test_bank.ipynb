{
 "cells": [
  {
   "cell_type": "code",
   "execution_count": 11,
   "metadata": {},
   "outputs": [],
   "source": [
    "from bank import value\n",
    "\n",
    "def test_hello():\n",
    "    assert value(\"hello\") == 0\n",
    "    assert value(\"HELLO, mark\") == 0\n",
    "\n",
    "def test_h_words():\n",
    "    assert value(\"hi\") == 20\n",
    "    assert value(\"howdy\") == 20\n",
    "\n",
    "def test_other_words():\n",
    "    assert value(\"money\") == 100\n",
    "    assert value(\"food\") == 100\n",
    "\n",
    "def test_h_in_middle():\n",
    "    assert value(\"she\") == 100"
   ]
  }
 ],
 "metadata": {
  "kernelspec": {
   "display_name": "Python 3",
   "language": "python",
   "name": "python3"
  },
  "language_info": {
   "codemirror_mode": {
    "name": "ipython",
    "version": 3
   },
   "file_extension": ".py",
   "mimetype": "text/x-python",
   "name": "python",
   "nbconvert_exporter": "python",
   "pygments_lexer": "ipython3",
   "version": "3.11.7"
  }
 },
 "nbformat": 4,
 "nbformat_minor": 2
}
