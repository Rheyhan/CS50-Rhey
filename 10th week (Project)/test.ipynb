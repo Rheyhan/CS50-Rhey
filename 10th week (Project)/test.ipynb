{
 "cells": [
  {
   "cell_type": "code",
   "execution_count": 1,
   "metadata": {},
   "outputs": [],
   "source": [
    "from bs4 import BeautifulSoup\n",
    "import requests\n",
    "from PIL import Image\n",
    "import os\n",
    "import re\n",
    "from tqdm import tqdm"
   ]
  },
  {
   "cell_type": "code",
   "execution_count": 2,
   "metadata": {},
   "outputs": [],
   "source": [
    "Searchlink=\"https://www.google.com/search?q=\"\n",
    "whatyouwannasearch=\"T-64\"\n",
    "googleimage=\"&tbm=isch&ved=2ahUKEwiyq5mu396DAxWqwaACHWsuC6IQ2-cCegQIABAA&oq=t34&gs_lcp=CgNpbWcQAzIFCAAQgAQyBQgAEIAEMgUIABCABDIFCAAQgAQyBQgAEIAEMgUIABCABDIFCAAQgAQyBQgAEIAEMgUIABCABDIFCAAQgAQ6DggAEIAEEIoFELEDEIMBOggIABCABBCxA1CeBFinCmDlC2gAcAB4AYABR4gByAGSAQEzmAEAoAEBqgELZ3dzLXdpei1pbWfAAQE&sclient=img&ei=1c2kZfLsG6qDg8UP69yskAo&bih=675&biw=1396\"\n",
    "header = {\n",
    "    'User-Agent':\n",
    "    \"Mozilla/5.0 (X11; Linux x86_64) AppleWebKit/537.36 (KHTML, like Gecko) Chrome/77.0.3865.90 Safari/537.36\"\n",
    "}\n",
    "\n",
    "r=requests.get(f'{Searchlink}{whatyouwannasearch}{googleimage}', headers=header, timeout=20)"
   ]
  },
  {
   "cell_type": "code",
   "execution_count": 21,
   "metadata": {},
   "outputs": [],
   "source": [
    "#r=requests.get(f'{Searchlink}{whatyouwannasearch}{googleimage}', headers=header)\n",
    "soup=BeautifulSoup(r.content, \"html5lib\").prettify()"
   ]
  },
  {
   "cell_type": "code",
   "execution_count": 4,
   "metadata": {},
   "outputs": [],
   "source": [
    "temp=re.findall(r'\\[\\\"https://encrypted[^,]+\\\",\\d{1,10},\\d{1,10}],\\[\\\"https://[^,]+,\\d{1,10},\\d{1,10}]', soup)\n",
    "targeturl=[re.findall(r'https://[^\\\"]+', i)[1] for i in temp]"
   ]
  },
  {
   "cell_type": "code",
   "execution_count": 20,
   "metadata": {},
   "outputs": [],
   "source": [
    "class imagedownloader:\n",
    "    def __init__(self, whatyouwannasearch: str=None):\n",
    "        if whatyouwannasearch==None: raise ValueError(\"Input what you gonna search!\")\n",
    "        if a:=re.search(r'\\S.+\\S', whatyouwannasearch)[0]:\n",
    "            self.whatyouwannasearch=a\n",
    "        self.getURL()\n",
    "        self.r=self.getrequest()\n",
    "    \n",
    "    def getURL(self):\n",
    "        googlesearch=\"https://www.google.com/search?q=\"\n",
    "        googleimagething=\"&tbm=isch&ved=2ahUKEwiyq5mu396DAxWqwaACHWsuC6IQ2-cCegQIABAA&oq=t34&gs_lcp=CgNpbWcQAzIFCAAQgAQyBQgAEIAEMgUIABCABDIFCAAQgAQyBQgAEIAEMgUIABCABDIFCAAQgAQyBQgAEIAEMgUIABCABDIFCAAQgAQ6DggAEIAEEIoFELEDEIMBOggIABCABBCxA1CeBFinCmDlC2gAcAB4AYABR4gByAGSAQEzmAEAoAEBqgELZ3dzLXdpei1pbWfAAQE&sclient=img&ei=1c2kZfLsG6qDg8UP69yskAo&bih=675&biw=1396\"\n",
    "        self.googleimageURL=f'{googlesearch}{self.whatyouwannasearch}{googleimagething}'\n",
    "    \n",
    "    def getrequest(self):\n",
    "        self.header = {'User-Agent': \"Mozilla/5.0 (X11; Linux x86_64) AppleWebKit/537.36 (KHTML, like Gecko) Chrome/77.0.3865.90 Safari/537.36\"}\n",
    "\n",
    "        try:\n",
    "            r=requests.get(self.googleimageURL, headers=self.header, timeout=20)\n",
    "            if r.status_code == 200:\n",
    "                return r\n",
    "        except ConnectionError:\n",
    "            print(\"Check Your Connection\")\n",
    "    \n",
    "    def start(self, \n",
    "              n: int=1, \n",
    "              savepath= None):\n",
    "        '''\n",
    "        n: int on range of 1 to 75.\\n\n",
    "        savepath: location of where the images are gonna be downloaded. Default on current directory.\n",
    "        '''\n",
    "        if not re.search(r'\\w', savepath): savepath=None\n",
    "        if n<1 or n>=75: raise ValueError(\"Womp womp!\")\n",
    "        self.n=n\n",
    "        self.savepath=savepath\n",
    "        self.getimagelink()\n",
    "        self.saveimage()\n",
    "\n",
    "    def getimagelink(self):\n",
    "        soup=BeautifulSoup(self.r.content, \"html5lib\").prettify()\n",
    "        temp=re.findall(r'\\[\\\"https://encrypted[^,]+\\\",\\d{1,10},\\d{1,10}],\\[\\\"https://[^,]+,\\d{1,10},\\d{1,10}]', soup)\n",
    "        self.targeturl=[re.findall(r'https://[^\\\"]+', i)[1] for i in temp]\n",
    "    \n",
    "    def saveimage(self):\n",
    "        counter=0\n",
    "        index=-1\n",
    "        if self.savepath:\n",
    "            idkbro=f'{self.savepath}/{self.whatyouwannasearch}'\n",
    "        else: idkbro=f'{self.whatyouwannasearch}'\n",
    "        try:\n",
    "            os.makedirs(idkbro)\n",
    "        except:\n",
    "            pass\n",
    "\n",
    "        progress_bar = tqdm(total=self.n, desc=\"Processing\")\n",
    "        \n",
    "        while self.n>counter:\n",
    "            index+=1\n",
    "            extensiontype=None\n",
    "            for extension in [\".jpg\", \".png\", \".jpeg\"]:\n",
    "                try:\n",
    "                    if re.search(extension, self.targeturl[index]):  \n",
    "                        extensiontype=extension; break\n",
    "                except IndexError:\n",
    "                    print(\"Can't find any image!\")\n",
    "                    \n",
    "            if extensiontype==None: continue\n",
    "            r_image=requests.get(self.targeturl[index], headers=self.header, timeout=10)\n",
    "            if r_image.status_code==200:    \n",
    "                with open(f'{idkbro}/{counter}{extensiontype}',\"wb\") as br:\n",
    "                    br.write(r_image.content)\n",
    "            else: print(f'Failed to download {str(self.targeturl[index])}')\n",
    "            counter+=1\n",
    "            progress_bar.update(1)\n",
    "\n",
    "        progress_bar.close()\n",
    "    \n",
    "    def __str__(self):\n",
    "        return f'You\\'re looking for {self.whatyouwannasearch}.'"
   ]
  },
  {
   "cell_type": "code",
   "execution_count": 16,
   "metadata": {},
   "outputs": [],
   "source": [
    "test=imagedownloader(\"T-72B\")"
   ]
  },
  {
   "cell_type": "code",
   "execution_count": 34,
   "metadata": {},
   "outputs": [
    {
     "data": {
      "text/plain": [
       "True"
      ]
     },
     "execution_count": 34,
     "metadata": {},
     "output_type": "execute_result"
    }
   ],
   "source": [
    "str(test)==\"You're looking for T-72B.\""
   ]
  }
 ],
 "metadata": {
  "kernelspec": {
   "display_name": "Python 3",
   "language": "python",
   "name": "python3"
  },
  "language_info": {
   "codemirror_mode": {
    "name": "ipython",
    "version": 3
   },
   "file_extension": ".py",
   "mimetype": "text/x-python",
   "name": "python",
   "nbconvert_exporter": "python",
   "pygments_lexer": "ipython3",
   "version": "3.11.7"
  }
 },
 "nbformat": 4,
 "nbformat_minor": 2
}
