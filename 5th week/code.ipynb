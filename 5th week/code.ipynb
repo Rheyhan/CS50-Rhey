{
 "cells": [
  {
   "cell_type": "code",
   "execution_count": 3,
   "metadata": {},
   "outputs": [
    {
     "name": "stdout",
     "output_type": "stream",
     "text": [
      "Too small!\n",
      "Just right!\n"
     ]
    }
   ],
   "source": [
    "import random as rd\n",
    "\n",
    "checker=False\n",
    "while(True):\n",
    "    try:\n",
    "        a=int(input(\"Level: \"))\n",
    "        if (a>0):\n",
    "            randnum= rd.randint(1, a);checker=True; break\n",
    "    except:\n",
    "        pass\n",
    "\n",
    "if checker:\n",
    "    while(True):\n",
    "        try:\n",
    "            b=int(input(\"Guess: \"))\n",
    "            if b>0:\n",
    "                if randnum>b:\n",
    "                    print(\"Too small!\")\n",
    "                elif randnum<b:\n",
    "                    print(\"Too large!\")\n",
    "                else:\n",
    "                    print(\"Just right!\")\n",
    "                    break\n",
    "\n",
    "        except:\n",
    "            pass"
   ]
  }
 ],
 "metadata": {
  "kernelspec": {
   "display_name": "Python 3",
   "language": "python",
   "name": "python3"
  },
  "language_info": {
   "codemirror_mode": {
    "name": "ipython",
    "version": 3
   },
   "file_extension": ".py",
   "mimetype": "text/x-python",
   "name": "python",
   "nbconvert_exporter": "python",
   "pygments_lexer": "ipython3",
   "version": "3.11.7"
  }
 },
 "nbformat": 4,
 "nbformat_minor": 2
}
