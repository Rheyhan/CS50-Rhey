{
 "cells": [
  {
   "cell_type": "code",
   "execution_count": 6,
   "metadata": {},
   "outputs": [
    {
     "name": "stdout",
     "output_type": "stream",
     "text": [
      "EEE\n",
      "1 + 8 = 9\n",
      "EEE\n",
      "7 + 8 = 15\n",
      "EEE\n",
      "8 + 2 = 10\n",
      "EEE\n",
      "4 + 4 = 8\n",
      "EEE\n",
      "2 + 4 = 6\n",
      "EEE\n",
      "4 + 6 = 10\n"
     ]
    }
   ],
   "source": [
    "import random as rd\n",
    "\n",
    "\n",
    "def main():\n",
    "    level=get_level()\n",
    "    counter=0\n",
    "    for _ in range(10):\n",
    "        x, y = generate_integer(level)\n",
    "        for j in range(3):\n",
    "            answer=(input(f'{x} + {y} = '))\n",
    "            if answer==str(int(x)+int(y)):\n",
    "                counter+=1\n",
    "                break\n",
    "            else: print(\"EEE\")\n",
    "            if j==2:\n",
    "                print(f'{x} + {y} = {x+y}')\n",
    "                \n",
    "    print(f'Score: {counter}]')\n",
    "\n",
    "def get_level():\n",
    "    while(True):\n",
    "        try:\n",
    "            level=int(input(\"Level: \"))\n",
    "            if level >0 and level <=3:\n",
    "                return level\n",
    "        except:\n",
    "            pass\n",
    "\n",
    "def generate_integer(level):\n",
    "    if level==1:\n",
    "        return rd.randint(0,9), rd.randint(0,9)\n",
    "    elif level==2:\n",
    "        return rd.randint(10,99), rd.randint(10,99)\n",
    "    elif level==3:\n",
    "        return rd.randint(100,999), rd.randint(100,999)\n",
    "\n",
    "\n",
    "if __name__ == \"__main__\":\n",
    "    main()\n"
   ]
  },
  {
   "cell_type": "code",
   "execution_count": 12,
   "metadata": {},
   "outputs": [
    {
     "name": "stdout",
     "output_type": "stream",
     "text": [
      "0 0\n",
      "0 1\n",
      "1 0\n",
      "1 1\n",
      "2 0\n",
      "2 1\n"
     ]
    }
   ],
   "source": [
    "for i in range(3):\n",
    "    for j in range(5):\n",
    "        if j==2:\n",
    "            break\n",
    "        print(i, j)"
   ]
  }
 ],
 "metadata": {
  "kernelspec": {
   "display_name": "Python 3",
   "language": "python",
   "name": "python3"
  },
  "language_info": {
   "codemirror_mode": {
    "name": "ipython",
    "version": 3
   },
   "file_extension": ".py",
   "mimetype": "text/x-python",
   "name": "python",
   "nbconvert_exporter": "python",
   "pygments_lexer": "ipython3",
   "version": "3.11.7"
  }
 },
 "nbformat": 4,
 "nbformat_minor": 2
}
