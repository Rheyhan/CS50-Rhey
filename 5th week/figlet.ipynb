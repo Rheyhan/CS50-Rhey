{
 "cells": [
  {
   "cell_type": "code",
   "execution_count": 44,
   "metadata": {},
   "outputs": [],
   "source": [
    "import pyfiglet \n",
    "import sys\n",
    "import random as rd\n",
    "import argparse\n",
    "\n",
    "parser = argparse.ArgumentParser()\n",
    "parser.add_argument(\"-f\", \"--font\", default=None, help=\"Set ya Font mate\")\n",
    "args = vars(parser.parse_args())\n",
    "font = args[\"font\"]\n",
    "\n",
    "figlet= pyfiglet.Figlet()\n",
    "if font == None:\n",
    "    figlet.setFont(font=rd.choice(figlet.getFonts()))\n",
    "else:\n",
    "    try:\n",
    "        figlet.setFont(font=font)\n",
    "    except:\n",
    "        sys.exit(\"Invalid usage\")\n",
    "words=str(input(\"Input: \"))\n",
    "\n",
    "print(f'Output:\\n{figlet.renderText(words)}')"
   ]
  }
 ],
 "metadata": {
  "kernelspec": {
   "display_name": "Python 3",
   "language": "python",
   "name": "python3"
  },
  "language_info": {
   "codemirror_mode": {
    "name": "ipython",
    "version": 3
   },
   "file_extension": ".py",
   "mimetype": "text/x-python",
   "name": "python",
   "nbconvert_exporter": "python",
   "pygments_lexer": "ipython3",
   "version": "3.11.7"
  }
 },
 "nbformat": 4,
 "nbformat_minor": 2
}
