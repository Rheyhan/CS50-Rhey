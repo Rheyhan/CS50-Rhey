{
 "cells": [
  {
   "cell_type": "code",
   "execution_count": null,
   "metadata": {},
   "outputs": [],
   "source": [
    "import argparse\n",
    "import requests\n",
    "import sys\n",
    "\n",
    "try:\n",
    "    parser=argparse.ArgumentParser()\n",
    "    parser.add_argument(\"Value\", help=\"Btc quantity\")\n",
    "    args = vars(parser.parse_args())\n",
    "except:\n",
    "    sys.exit(\"Missing command-line argument\")\n",
    "try:\n",
    "    value = float(args[\"Value\"])\n",
    "except:\n",
    "    sys.exit(\"Command-line argument is not a number\")\n",
    "\n",
    "r=requests.get(\"https://api.coindesk.com/v1/bpi/currentprice.json\")\n",
    "curerentrate=r.json()[\"bpi\"][\"USD\"][\"rate\"]\n",
    "temp=f'{float(curerentrate.replace(\",\", \"\"))*value:.4f}'\n",
    "print(f'${float(temp):,}')"
   ]
  }
 ],
 "metadata": {
  "kernelspec": {
   "display_name": "Python 3",
   "language": "python",
   "name": "python3"
  },
  "language_info": {
   "codemirror_mode": {
    "name": "ipython",
    "version": 3
   },
   "file_extension": ".py",
   "mimetype": "text/x-python",
   "name": "python",
   "nbconvert_exporter": "python",
   "pygments_lexer": "ipython3",
   "version": "3.11.7"
  }
 },
 "nbformat": 4,
 "nbformat_minor": 2
}
