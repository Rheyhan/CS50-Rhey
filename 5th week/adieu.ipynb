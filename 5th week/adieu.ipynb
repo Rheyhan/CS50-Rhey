{
 "cells": [
  {
   "cell_type": "code",
   "execution_count": null,
   "metadata": {},
   "outputs": [],
   "source": [
    "namelist=[]\n",
    "string=\"Adieu, adieu, to \"\n",
    "while(True):\n",
    "    try:\n",
    "        a=str(input(\"Name: \"))\n",
    "        namelist.append(a)\n",
    "        \n",
    "    except EOFError:\n",
    "        if len(namelist)==1:\n",
    "            print(string+namelist[0])\n",
    "        elif len(namelist)==2:\n",
    "            print(f'{string}{namelist[0]} and {namelist[1]}')\n",
    "        elif len(namelist)>2:\n",
    "            string+=' '.join(i for i in [f'{j},' for j in namelist[:-1]])\n",
    "            print(f'{string} and {namelist[-1]}')\n",
    "\n",
    "        break"
   ]
  }
 ],
 "metadata": {
  "kernelspec": {
   "display_name": "Python 3",
   "language": "python",
   "name": "python3"
  },
  "language_info": {
   "codemirror_mode": {
    "name": "ipython",
    "version": 3
   },
   "file_extension": ".py",
   "mimetype": "text/x-python",
   "name": "python",
   "nbconvert_exporter": "python",
   "pygments_lexer": "ipython3",
   "version": "3.11.7"
  }
 },
 "nbformat": 4,
 "nbformat_minor": 2
}
