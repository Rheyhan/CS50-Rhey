{
 "cells": [
  {
   "cell_type": "markdown",
   "metadata": {},
   "source": [
    "What was learnt:\n",
    "1. random:\n",
    "- choice\n",
    "- randint\n",
    "- shuffle\n",
    "2. Statistics:\n",
    "- mean\n",
    "3. sys:\n",
    "- argv\n",
    "- exit\n",
    "4. requests:\n",
    "- get\n",
    "- json\n",
    "5. json:\n",
    "- dumps"
   ]
  }
 ],
 "metadata": {
  "language_info": {
   "name": "python"
  }
 },
 "nbformat": 4,
 "nbformat_minor": 2
}
