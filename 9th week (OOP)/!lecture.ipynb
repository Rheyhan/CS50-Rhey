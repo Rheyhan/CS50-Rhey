{
 "cells": [
  {
   "cell_type": "markdown",
   "metadata": {},
   "source": [
    "\"ussage of \\__str__\" and Setter and getter with decor."
   ]
  },
  {
   "cell_type": "code",
   "execution_count": 1,
   "metadata": {},
   "outputs": [],
   "source": [
    "class tank:\n",
    "    def __init__(self, name, type, country, cannon):\n",
    "        if type not in [\"Heavy\", \"Medium\", \"Might\"]:\n",
    "            raise ValueError(\"Incorrect tank type\")\n",
    "        self.name=name\n",
    "        self.type=type\n",
    "        self.country=country\n",
    "        self.cannon=cannon\n",
    "    \n",
    "    def __str__(self):\n",
    "        return f'idk a tank stuff!\\nTank Name:{self.name} with {self.cannon} cannon from {self.country}.'\n",
    "\n",
    "\n",
    "    '''Setter and getter with decor.'''\n",
    "    #getter\n",
    "    @property\n",
    "    def country(self):\n",
    "        return self._country\n",
    "    \n",
    "    #setter\n",
    "    @country.setter\n",
    "    def country(self, country):\n",
    "        if country not in [\"USSR\", \"Germany\", \"USA\"]:\n",
    "            raise ValueError(\"Incorrect country\")\n",
    "        self._country=country\n",
    "    \n",
    "def gettank():\n",
    "    name=\"T-34\"\n",
    "    Type=\"Medium\"\n",
    "    country=\"USSR\"\n",
    "    cannon=\"76.2mm\"\n",
    "    return tank(name, Type, country, cannon)\n",
    "\n",
    "a=gettank()"
   ]
  },
  {
   "cell_type": "code",
   "execution_count": 2,
   "metadata": {},
   "outputs": [
    {
     "name": "stdout",
     "output_type": "stream",
     "text": [
      "idk a tank stuff!\n",
      "Tank Name:T-34 with 76.2mm cannon from USSR.\n"
     ]
    }
   ],
   "source": [
    "print(a)        #the main purpose of __str__\n",
    "a.country=\"Germany\""
   ]
  },
  {
   "cell_type": "code",
   "execution_count": 3,
   "metadata": {},
   "outputs": [
    {
     "name": "stdout",
     "output_type": "stream",
     "text": [
      "idk a tank stuff!\n",
      "Tank Name:T-34 with 76.2mm cannon from Germany.\n"
     ]
    }
   ],
   "source": [
    "print(a)"
   ]
  },
  {
   "cell_type": "markdown",
   "metadata": {},
   "source": [
    "@classmethods"
   ]
  },
  {
   "cell_type": "code",
   "execution_count": 10,
   "metadata": {},
   "outputs": [],
   "source": [
    "import random as rd\n",
    "\n",
    "class gacha():\n",
    "    def gachamechanic():\n",
    "        rate=rd.random()\n",
    "        if rate<=0.25:\n",
    "            return f'5* {rd.choice([\"Character\", \"Weapon\"])}'\n",
    "        elif rate>0.25 and rate<=0.55:\n",
    "            return f'4* {rd.choice([\"Character\", \"Weapon\"])}'\n",
    "        else:\n",
    "            return f'3* {rd.choice([\"Character\", \"Weapon\"])}'\n",
    "    \n",
    "    @classmethod\n",
    "    def roll(cls, name):\n",
    "        print(f'{name} got {cls.gachamechanic()}')"
   ]
  },
  {
   "cell_type": "code",
   "execution_count": 21,
   "metadata": {},
   "outputs": [
    {
     "name": "stdout",
     "output_type": "stream",
     "text": [
      "Rhey got 3* Weapon\n"
     ]
    }
   ],
   "source": [
    "gacha.roll(\"Rhey\")"
   ]
  },
  {
   "cell_type": "markdown",
   "metadata": {},
   "source": [
    "Inheritance"
   ]
  },
  {
   "cell_type": "code",
   "execution_count": 23,
   "metadata": {},
   "outputs": [
    {
     "data": {
      "text/plain": [
       "'Rheyhan'"
      ]
     },
     "execution_count": 23,
     "metadata": {},
     "output_type": "execute_result"
    }
   ],
   "source": [
    "class ipb:\n",
    "    def __init__(self, name):\n",
    "        self.name=name\n",
    "    \n",
    "    def showname(self):\n",
    "        return self.name\n",
    "\n",
    "class mahasiswa(ipb):\n",
    "    def __init__(self, name, NIM):\n",
    "        super().__init__(name)\n",
    "        self.NIM=NIM\n",
    "\n",
    "class dosen(ipb):\n",
    "    def __init__(self, name, NIK):\n",
    "        super().__init__(name)\n",
    "        self.NIK=NIK\n",
    "\n",
    "akunku=mahasiswa(\"Rheyhan\", \"G1401211030\")\n",
    "akunku.showname()"
   ]
  }
 ],
 "metadata": {
  "kernelspec": {
   "display_name": "Python 3",
   "language": "python",
   "name": "python3"
  },
  "language_info": {
   "codemirror_mode": {
    "name": "ipython",
    "version": 3
   },
   "file_extension": ".py",
   "mimetype": "text/x-python",
   "name": "python",
   "nbconvert_exporter": "python",
   "pygments_lexer": "ipython3",
   "version": "3.11.7"
  }
 },
 "nbformat": 4,
 "nbformat_minor": 2
}
