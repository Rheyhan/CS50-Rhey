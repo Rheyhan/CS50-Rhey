{
 "cells": [
  {
   "cell_type": "code",
   "execution_count": 26,
   "metadata": {},
   "outputs": [],
   "source": [
    "class Jar:\n",
    "    def __init__(self, capacity=12):\n",
    "        self.capacity=capacity\n",
    "        self.size=0\n",
    "\n",
    "    def __str__(self):\n",
    "        return(''.join([\"🍪\" for i in range(self.size)]))\n",
    "\n",
    "    def deposit(self, n):\n",
    "        self.size+=n\n",
    "        if self.size>self.capacity:\n",
    "            raise ValueError(\"Exceeding Capacity\")\n",
    "\n",
    "    def withdraw(self, n):\n",
    "        if (self.size-n)<0:\n",
    "            raise ValueError(\"We ain't taking loan idiot!\")\n",
    "        self.size-=n\n",
    "                \n",
    "    '''Capacity'''\n",
    "    @property\n",
    "    def capacity(self):\n",
    "        return self._capacity\n",
    "    @capacity.setter\n",
    "    def capacity(self, capacity):\n",
    "        if capacity<=0:\n",
    "            raise ValueError(\"Can't be 0 or negative retard!\")\n",
    "        self._capacity=capacity\n",
    "    \n",
    "    '''Size!'''\n",
    "    @property\n",
    "    def size(self):\n",
    "        return self._size    \n",
    "    @size.setter\n",
    "    def size(self, size):\n",
    "       self._size=size"
   ]
  },
  {
   "cell_type": "code",
   "execution_count": 28,
   "metadata": {},
   "outputs": [
    {
     "data": {
      "text/plain": [
       "0"
      ]
     },
     "execution_count": 28,
     "metadata": {},
     "output_type": "execute_result"
    }
   ],
   "source": [
    "tets=Jar()\n",
    "str(tets)\n",
    "tets.deposit(12)\n",
    "tets.size\n",
    "tets.withdraw(12)\n",
    "tets.size"
   ]
  }
 ],
 "metadata": {
  "kernelspec": {
   "display_name": "Python 3",
   "language": "python",
   "name": "python3"
  },
  "language_info": {
   "codemirror_mode": {
    "name": "ipython",
    "version": 3
   },
   "file_extension": ".py",
   "mimetype": "text/x-python",
   "name": "python",
   "nbconvert_exporter": "python",
   "pygments_lexer": "ipython3",
   "version": "3.11.7"
  }
 },
 "nbformat": 4,
 "nbformat_minor": 2
}
