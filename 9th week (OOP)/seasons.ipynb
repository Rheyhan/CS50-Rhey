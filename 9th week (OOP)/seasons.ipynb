{
 "cells": [
  {
   "cell_type": "code",
   "execution_count": 64,
   "metadata": {},
   "outputs": [
    {
     "name": "stdout",
     "output_type": "stream",
     "text": [
      "Thirteen million, six hundred eighty-five thousand, seven hundred sixty minutes\n"
     ]
    }
   ],
   "source": [
    "from datetime import date\n",
    "import re\n",
    "import sys\n",
    "import inflect\n",
    "\n",
    "class idk():\n",
    "    def __init__(self, string):\n",
    "        self.string=string\n",
    "        self.validate()\n",
    "    \n",
    "    def validate(self):\n",
    "        if re.search(r\"\\d{4}-\\d{2}-\\d{2}\", self.string):\n",
    "            year, month, date= [int(i) for i in re.split(\"-\", self.string)]\n",
    "            if month <= 12 and date<=31:\n",
    "                self.year=year;self.month=month;self.date=date\n",
    "                self.process()\n",
    "                return 0\n",
    "            \n",
    "        sys.exit(\"Invalid date\")\n",
    "        \n",
    "    def process(self):\n",
    "        delta = abs(date.today() - date(self.year, self.month, self.date))\n",
    "        self.minuteconversion=delta.days*60*24\n",
    "        self.convert_to_words()\n",
    "\n",
    "    def convert_to_words(self):\n",
    "        p = inflect.engine()\n",
    "        words_minuteconversion = f'{p.number_to_words(self.minuteconversion)} minutes'\n",
    "        self.words_minuteconversion = re.sub(\"and \", \"\", words_minuteconversion[0].upper()+ words_minuteconversion[1:])\n",
    "    \n",
    "def main():\n",
    "    a=str(input(\"Date of Birth: \"))\n",
    "    print(f'{yesssir(a)}')\n",
    "\n",
    "def yesssir(a):\n",
    "    return idk(a).words_minuteconversion\n",
    "\n",
    "if __name__ == \"__main__\":\n",
    "    main()"
   ]
  }
 ],
 "metadata": {
  "kernelspec": {
   "display_name": "Python 3",
   "language": "python",
   "name": "python3"
  },
  "language_info": {
   "codemirror_mode": {
    "name": "ipython",
    "version": 3
   },
   "file_extension": ".py",
   "mimetype": "text/x-python",
   "name": "python",
   "nbconvert_exporter": "python",
   "pygments_lexer": "ipython3",
   "version": "3.11.7"
  }
 },
 "nbformat": 4,
 "nbformat_minor": 2
}
