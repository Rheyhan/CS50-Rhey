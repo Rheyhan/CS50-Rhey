{
 "cells": [
  {
   "cell_type": "code",
   "execution_count": 38,
   "metadata": {},
   "outputs": [
    {
     "ename": "",
     "evalue": "",
     "output_type": "error",
     "traceback": [
      "\u001b[1;31mThe Kernel crashed while executing code in the the current cell or a previous cell. Please review the code in the cell(s) to identify a possible cause of the failure. Click <a href='https://aka.ms/vscodeJupyterKernelCrash'>here</a> for more info. View Jupyter <a href='command:jupyter.viewOutput'>log</a> for further details."
     ]
    }
   ],
   "source": [
    "from fpdf import FPDF\n",
    "from PIL import Image\n",
    "\n",
    "name=str(input(\"Name: \"))\n",
    "\n",
    "pdf = FPDF(format=\"A4\")\n",
    "pdf.add_page()\n",
    "pdf.set_margin(0)\n",
    "\n",
    "'''Font'''\n",
    "pdf.set_font('helvetica', size=60)\n",
    "pdf.cell(text=\"CS50 Shirtificate\", center=True, h=60)\n",
    "pdf.set_y(0)\n",
    "\n",
    "'''Image'''\n",
    "image=Image.open(\"shirtificate.png\").resize((550, 550))\n",
    "pdf.image(image, y=60, x=8)\n",
    "\n",
    "'''Another Font'''\n",
    "pdf.set_text_color(255,255, 255)\n",
    "pdf.set_font('helvetica', size=30)\n",
    "pdf.cell(text=f'{name} took CS50', center=True, h=pdf.eph*7/8)\n",
    "pdf.set_y(0)\n",
    "\n",
    "pdf.output(\"shirtificate.pdf\")"
   ]
  },
  {
   "cell_type": "code",
   "execution_count": 18,
   "metadata": {},
   "outputs": [
    {
     "data": {
      "text/plain": [
       "297.0000833333333"
      ]
     },
     "execution_count": 18,
     "metadata": {},
     "output_type": "execute_result"
    }
   ],
   "source": []
  }
 ],
 "metadata": {
  "kernelspec": {
   "display_name": "Python 3",
   "language": "python",
   "name": "python3"
  },
  "language_info": {
   "codemirror_mode": {
    "name": "ipython",
    "version": 3
   },
   "file_extension": ".py",
   "mimetype": "text/x-python",
   "name": "python",
   "nbconvert_exporter": "python",
   "pygments_lexer": "ipython3",
   "version": "3.11.7"
  }
 },
 "nbformat": 4,
 "nbformat_minor": 2
}
