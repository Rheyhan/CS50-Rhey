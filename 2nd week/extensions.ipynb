{
 "cells": [
  {
   "cell_type": "code",
   "execution_count": 39,
   "metadata": {},
   "outputs": [
    {
     "name": "stdout",
     "output_type": "stream",
     "text": [
      "application/pdf\n"
     ]
    }
   ],
   "source": [
    "thedict={\"gif\": \"image/gif\",\n",
    "         \"jpg\": \"image/jpeg\",\n",
    "         \"jpeg\": \"image/jpeg\",\n",
    "         \"png\": \"image/png\",\n",
    "         \"pdf\": \"application/pdf\",\n",
    "         \"txt\": \"text/plain\",\n",
    "         \"zip\": \"application/zip\"}\n",
    "\n",
    "a=str(input(\"File name: \"))\n",
    "try: print(thedict[\"\".join(i for i in a if i != \" \").lower().split(\".\")[-1]])\n",
    "except: print(\"application/octet-stream\")"
   ]
  }
 ],
 "metadata": {
  "kernelspec": {
   "display_name": "Python 3",
   "language": "python",
   "name": "python3"
  },
  "language_info": {
   "codemirror_mode": {
    "name": "ipython",
    "version": 3
   },
   "file_extension": ".py",
   "mimetype": "text/x-python",
   "name": "python",
   "nbconvert_exporter": "python",
   "pygments_lexer": "ipython3",
   "version": "3.11.7"
  }
 },
 "nbformat": 4,
 "nbformat_minor": 2
}
