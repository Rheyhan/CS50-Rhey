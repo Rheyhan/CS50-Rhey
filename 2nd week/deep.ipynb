{
 "cells": [
  {
   "cell_type": "code",
   "execution_count": 10,
   "metadata": {},
   "outputs": [
    {
     "name": "stdout",
     "output_type": "stream",
     "text": [
      "Yes\n"
     ]
    }
   ],
   "source": [
    "a=str(input(\"What is the Answer to the Great Question of Life, the Universe, and Everything? \")).lower()\n",
    "try:\n",
    "    a=int(a)\n",
    "except:\n",
    "    pass\n",
    "\n",
    "if a in [42, \"forty two\", \"forty-two\"]: \n",
    "    print(\"Yes\")\n",
    "else: print(\"No\")"
   ]
  }
 ],
 "metadata": {
  "kernelspec": {
   "display_name": "Python 3",
   "language": "python",
   "name": "python3"
  },
  "language_info": {
   "codemirror_mode": {
    "name": "ipython",
    "version": 3
   },
   "file_extension": ".py",
   "mimetype": "text/x-python",
   "name": "python",
   "nbconvert_exporter": "python",
   "pygments_lexer": "ipython3",
   "version": "3.11.7"
  }
 },
 "nbformat": 4,
 "nbformat_minor": 2
}
