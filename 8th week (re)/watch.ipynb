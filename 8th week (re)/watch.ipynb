{
 "cells": [
  {
   "cell_type": "code",
   "execution_count": 80,
   "metadata": {},
   "outputs": [
    {
     "name": "stdout",
     "output_type": "stream",
     "text": [
      "https://youtu.be/xvFZjo5PgG0\n"
     ]
    }
   ],
   "source": [
    "import re\n",
    "import sys\n",
    "\n",
    "\n",
    "def main():\n",
    "    print(parse(str(input(\"HTML: \"))))\n",
    "\n",
    "\n",
    "def parse(s):\n",
    "    temp=\"https://youtu.be/\"\n",
    "    if matches:= re.search(r'(\\\"|\\')\\S+youtube\\S+(\\\"|\\')', s):\n",
    "        return temp+re.split(\"/\", matches[0].replace(\"\\\"\", \"\"))[-1]\n",
    "\n",
    "if __name__ == \"__main__\":\n",
    "    main()"
   ]
  }
 ],
 "metadata": {
  "kernelspec": {
   "display_name": "Python 3",
   "language": "python",
   "name": "python3"
  },
  "language_info": {
   "codemirror_mode": {
    "name": "ipython",
    "version": 3
   },
   "file_extension": ".py",
   "mimetype": "text/x-python",
   "name": "python",
   "nbconvert_exporter": "python",
   "pygments_lexer": "ipython3",
   "version": "3.11.7"
  }
 },
 "nbformat": 4,
 "nbformat_minor": 2
}
