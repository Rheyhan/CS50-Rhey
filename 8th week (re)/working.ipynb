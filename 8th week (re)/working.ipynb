{
 "cells": [
  {
   "cell_type": "code",
   "execution_count": 9,
   "metadata": {},
   "outputs": [],
   "source": [
    "import re\n",
    "import sys"
   ]
  },
  {
   "cell_type": "code",
   "execution_count": 103,
   "metadata": {},
   "outputs": [
    {
     "ename": "ValueError",
     "evalue": "retard",
     "output_type": "error",
     "traceback": [
      "\u001b[1;31m---------------------------------------------------------------------------\u001b[0m",
      "\u001b[1;31mValueError\u001b[0m                                Traceback (most recent call last)",
      "Cell \u001b[1;32mIn[103], line 32\u001b[0m, in \u001b[0;36mconvert\u001b[1;34m(s)\u001b[0m\n\u001b[0;32m     31\u001b[0m hour\u001b[38;5;241m=\u001b[39m\u001b[38;5;28mint\u001b[39m(i\u001b[38;5;241m.\u001b[39msplit(\u001b[38;5;124m\"\u001b[39m\u001b[38;5;124m \u001b[39m\u001b[38;5;124m\"\u001b[39m)[\u001b[38;5;241m0\u001b[39m])\n\u001b[1;32m---> 32\u001b[0m \u001b[38;5;28;01mif\u001b[39;00m hour\u001b[38;5;241m<\u001b[39m\u001b[38;5;241m1\u001b[39m \u001b[38;5;129;01mor\u001b[39;00m hour\u001b[38;5;241m>\u001b[39m\u001b[38;5;241m12\u001b[39m: \u001b[38;5;28;01mraise\u001b[39;00m \u001b[38;5;167;01mValueError\u001b[39;00m(\u001b[38;5;124m\"\u001b[39m\u001b[38;5;124mretard\u001b[39m\u001b[38;5;124m\"\u001b[39m)\n\u001b[0;32m     34\u001b[0m \u001b[38;5;28;01mif\u001b[39;00m re\u001b[38;5;241m.\u001b[39msearch(\u001b[38;5;124mr\u001b[39m\u001b[38;5;124m\"\u001b[39m\u001b[38;5;124mPM\u001b[39m\u001b[38;5;124m\"\u001b[39m, i) \u001b[38;5;129;01mand\u001b[39;00m \u001b[38;5;129;01mnot\u001b[39;00m hour\u001b[38;5;241m==\u001b[39m\u001b[38;5;241m12\u001b[39m: hour\u001b[38;5;241m+\u001b[39m\u001b[38;5;241m=\u001b[39m\u001b[38;5;241m12\u001b[39m\n",
      "\u001b[1;31mValueError\u001b[0m: retard",
      "\nDuring handling of the above exception, another exception occurred:\n",
      "\u001b[1;31mValueError\u001b[0m                                Traceback (most recent call last)",
      "Cell \u001b[1;32mIn[103], line 43\u001b[0m\n\u001b[0;32m     40\u001b[0m             \u001b[38;5;28;01mraise\u001b[39;00m \u001b[38;5;167;01mValueError\u001b[39;00m(\u001b[38;5;124m\"\u001b[39m\u001b[38;5;124mretard\u001b[39m\u001b[38;5;124m\"\u001b[39m)\n\u001b[0;32m     42\u001b[0m \u001b[38;5;28;01mif\u001b[39;00m \u001b[38;5;18m__name__\u001b[39m \u001b[38;5;241m==\u001b[39m \u001b[38;5;124m\"\u001b[39m\u001b[38;5;124m__main__\u001b[39m\u001b[38;5;124m\"\u001b[39m:\n\u001b[1;32m---> 43\u001b[0m     \u001b[43mmain\u001b[49m\u001b[43m(\u001b[49m\u001b[43m)\u001b[49m\n",
      "Cell \u001b[1;32mIn[103], line 6\u001b[0m, in \u001b[0;36mmain\u001b[1;34m()\u001b[0m\n\u001b[0;32m      5\u001b[0m \u001b[38;5;28;01mdef\u001b[39;00m \u001b[38;5;21mmain\u001b[39m():\n\u001b[1;32m----> 6\u001b[0m     \u001b[38;5;28mprint\u001b[39m(\u001b[43mconvert\u001b[49m\u001b[43m(\u001b[49m\u001b[38;5;28;43minput\u001b[39;49m\u001b[43m(\u001b[49m\u001b[38;5;124;43m\"\u001b[39;49m\u001b[38;5;124;43mHours: \u001b[39;49m\u001b[38;5;124;43m\"\u001b[39;49m\u001b[43m)\u001b[49m\u001b[43m)\u001b[49m)\n",
      "Cell \u001b[1;32mIn[103], line 40\u001b[0m, in \u001b[0;36mconvert\u001b[1;34m(s)\u001b[0m\n\u001b[0;32m     38\u001b[0m     \u001b[38;5;28;01mreturn\u001b[39;00m \u001b[38;5;124mf\u001b[39m\u001b[38;5;124m'\u001b[39m\u001b[38;5;132;01m{\u001b[39;00mtemp[\u001b[38;5;241m0\u001b[39m]\u001b[38;5;241m.\u001b[39mzfill(\u001b[38;5;241m2\u001b[39m)\u001b[38;5;132;01m}\u001b[39;00m\u001b[38;5;124m:\u001b[39m\u001b[38;5;132;01m{\u001b[39;00mtemp1[\u001b[38;5;241m0\u001b[39m]\u001b[38;5;132;01m}\u001b[39;00m\u001b[38;5;124m to \u001b[39m\u001b[38;5;132;01m{\u001b[39;00mtemp[\u001b[38;5;241m1\u001b[39m]\u001b[38;5;241m.\u001b[39mzfill(\u001b[38;5;241m2\u001b[39m)\u001b[38;5;132;01m}\u001b[39;00m\u001b[38;5;124m:\u001b[39m\u001b[38;5;132;01m{\u001b[39;00mtemp1[\u001b[38;5;241m1\u001b[39m]\u001b[38;5;132;01m}\u001b[39;00m\u001b[38;5;124m'\u001b[39m\n\u001b[0;32m     39\u001b[0m \u001b[38;5;28;01mexcept\u001b[39;00m:\n\u001b[1;32m---> 40\u001b[0m     \u001b[38;5;28;01mraise\u001b[39;00m \u001b[38;5;167;01mValueError\u001b[39;00m(\u001b[38;5;124m\"\u001b[39m\u001b[38;5;124mretard\u001b[39m\u001b[38;5;124m\"\u001b[39m)\n",
      "\u001b[1;31mValueError\u001b[0m: retard"
     ]
    }
   ],
   "source": [
    "import re\n",
    "import sys\n",
    "\n",
    "\n",
    "def main():\n",
    "    print(convert(input(\"Hours: \")))\n",
    "\n",
    "\n",
    "def convert(s):\n",
    "    if matches:=re.split(r\"\\sto\\s\", s):\n",
    "        if len(matches)==1:raise ValueError(\"retard\")\n",
    "        temp=[]\n",
    "        temp1=[\"00\", \"00\"]\n",
    "        try:\n",
    "            if re.search(r\":\", matches[0]):\n",
    "                for counter, i in enumerate(matches):\n",
    "                    hour=(re.search(r\"\\d{1,2}\", i)[0])\n",
    "                    if hour[0]==\"0\": raise ValueError(\"retard\")\n",
    "                    \n",
    "                    hour=int(hour)\n",
    "                    if hour<1 or hour>12: raise ValueError(\"retard\")\n",
    "                    if re.search(r\"PM\", i) and not hour==12: hour+=12\n",
    "                    if re.search(r\"AM\", i) and hour==12: hour=0\n",
    "                    temp.append(str(hour))\n",
    "\n",
    "                    min=re.search(r\":\\d+\", i)[0][1:]\n",
    "                    if int(min)>=60: raise ValueError(\"retard\")\n",
    "                    temp1[counter]=min\n",
    "            else:\n",
    "                for i in matches:\n",
    "                    hour=int(i.split(\" \")[0])\n",
    "                    if hour<1 or hour>12: raise ValueError(\"retard\")\n",
    "                    \n",
    "                    if re.search(r\"PM\", i) and not hour==12: hour+=12\n",
    "                    if re.search(r\"AM\", i) and hour==12: hour=0\n",
    "                    temp.append(str(hour))\n",
    "                    \n",
    "            return f'{temp[0].zfill(2)}:{temp1[0]} to {temp[1].zfill(2)}:{temp1[1]}'\n",
    "        except:\n",
    "            raise ValueError(\"retard\")\n",
    "\n",
    "if __name__ == \"__main__\":\n",
    "    main()\n"
   ]
  }
 ],
 "metadata": {
  "kernelspec": {
   "display_name": "Python 3",
   "language": "python",
   "name": "python3"
  },
  "language_info": {
   "codemirror_mode": {
    "name": "ipython",
    "version": 3
   },
   "file_extension": ".py",
   "mimetype": "text/x-python",
   "name": "python",
   "nbconvert_exporter": "python",
   "pygments_lexer": "ipython3",
   "version": "3.11.7"
  }
 },
 "nbformat": 4,
 "nbformat_minor": 2
}
