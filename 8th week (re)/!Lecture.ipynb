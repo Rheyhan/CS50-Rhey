{
 "cells": [
  {
   "cell_type": "markdown",
   "metadata": {},
   "source": [
    "https://cs50.harvard.edu/python/2022/weeks/7/"
   ]
  },
  {
   "cell_type": "code",
   "execution_count": 1,
   "metadata": {},
   "outputs": [],
   "source": [
    "import re"
   ]
  },
  {
   "cell_type": "markdown",
   "metadata": {},
   "source": [
    "What was learnt\n",
    "\n",
    "Commands:\n",
    "\n",
    "1. Pattern\n",
    "> \".\"     any character except a newline\n",
    "\n",
    "> \"*\"     0 or more repetitions\n",
    "\n",
    "> \"+\"     1 or more repetitions\n",
    "\n",
    "> \"?\"     0 or 1 repetition\n",
    "\n",
    "> \"{m}\"   m repetitions\n",
    "\n",
    "> \"{m,n}\" m—n repetitions"
   ]
  },
  {
   "cell_type": "code",
   "execution_count": 2,
   "metadata": {},
   "outputs": [
    {
     "name": "stdout",
     "output_type": "stream",
     "text": [
      "valid\n"
     ]
    }
   ],
   "source": [
    "#should be invalid\n",
    "email=\"My name is Rheeyhanfahri90@gmail.com\"\n",
    "\n",
    "if re.search(r'.+@.+', email):\n",
    "    print(\"valid\")\n",
    "else: print(\"Invalid\")"
   ]
  },
  {
   "cell_type": "markdown",
   "metadata": {},
   "source": [
    "2. Match\n",
    "> \"^\"   matches the start of the string\n",
    "\n",
    "> \"$\"   Matches the end of the string or just before the newline at the end of the string"
   ]
  },
  {
   "cell_type": "code",
   "execution_count": 76,
   "metadata": {},
   "outputs": [
    {
     "name": "stdout",
     "output_type": "stream",
     "text": [
      "valid\n"
     ]
    }
   ],
   "source": [
    "#should be invalid\n",
    "if re.search(r'^.+@.+\\.com$', email):\n",
    "    print(\"valid\")\n",
    "else: print(\"Invalid\")"
   ]
  },
  {
   "cell_type": "markdown",
   "metadata": {},
   "source": [
    "3. Sets of Characters\n",
    "> \"[]\"  set of characters\n",
    "\n",
    "> \"[^]\" complementing the set\n",
    "\n",
    "> \"[^@]\" Allows everything except @\n",
    "\n",
    "> \"[A-Z]\" A to Z\n",
    "\n",
    "> \"[a-z]\" a to z\n",
    "\n",
    "> \"[0-9]\" 0 to 0\n",
    "\n",
    "> \"[A-Za-z0-9_]\"    only allows A to Z, a to z, 0 to 9, and _"
   ]
  },
  {
   "cell_type": "code",
   "execution_count": 3,
   "metadata": {},
   "outputs": [
    {
     "name": "stdout",
     "output_type": "stream",
     "text": [
      "valid\n",
      "Invalid\n"
     ]
    }
   ],
   "source": [
    "#should be invalid\n",
    "email=\"rheeyhan fahri90@Gmail.com\"\n",
    "\n",
    "if re.search(r'^[^@]+@[^@]+\\.com$', email):\n",
    "    print(\"valid\")\n",
    "else: print(\"Invalid\")\n",
    "\n",
    "if re.search(r'^[A-Za-z0-9_]+@[A-Za-z0-9_]+\\.com$', email):\n",
    "    print(\"valid\")\n",
    "else: print(\"Invalid\")"
   ]
  },
  {
   "cell_type": "markdown",
   "metadata": {},
   "source": [
    "4. Character classes\n",
    "> \"\\w\"  A to Z, a to z, 0 to 9, and _\n",
    "\n",
    "> \"\\W\"  not A to Z, a to z, 0 to 9, and _\n",
    "\n",
    "> \"\\d\"  decimal digit\n",
    "\n",
    "> \"\\D\"  not a decimal digit\n",
    "\n",
    "> \"\\s\"  whitespace characters\n",
    "\n",
    "> \"\\S\"  not a whitespace character\n",
    "\n",
    "> \"\\b\"  Matches the empty string, but only at the beginning or end of a word\n",
    "\n",
    "> \"\\B\" Matches the empty string, but only when it is not at the beginning or end of a word\n",
    "\n",
    "> \"A|B\" either A or B\n",
    "\n",
    "> \"(...)\" a group\n",
    "\n",
    "> \"(?:....)\" non-capturing version\n",
    "\n",
    "> \"(\\w|\\s)\" allows either word characters or whitespace characters"
   ]
  },
  {
   "cell_type": "code",
   "execution_count": 4,
   "metadata": {},
   "outputs": [
    {
     "name": "stdout",
     "output_type": "stream",
     "text": [
      "Invalid\n",
      "valid\n"
     ]
    }
   ],
   "source": [
    "#should be invalid\n",
    "email=\"rheeyhan fahri90@Gmail.com\"\n",
    "\n",
    "if re.search(r'^\\w+@\\w+\\.com$', email):\n",
    "    print(\"valid\")\n",
    "else: print(\"Invalid\")\n",
    "\n",
    "#should be valid\n",
    "email=\"Rheeyhanfahri90@Gmail.id\"\n",
    "if re.search(r'^\\w+@\\w+\\.(com|id|edu)$', email):\n",
    "    print(\"valid\")\n",
    "else: print(\"Invalid\")"
   ]
  },
  {
   "cell_type": "markdown",
   "metadata": {},
   "source": [
    "5. Flags\n",
    "> \"re.IGNORECASE\"   Tolerare pattern case, whether it's lowecase or uppercase\n",
    "\n",
    "> \"re.MULTILINE\"    match different lines\n",
    "\n",
    "> \"re.DOTALL\"       make the '.' special character match any character at all, including a newline"
   ]
  },
  {
   "cell_type": "code",
   "execution_count": 8,
   "metadata": {},
   "outputs": [
    {
     "name": "stdout",
     "output_type": "stream",
     "text": [
      "Invalid\n",
      "valid\n"
     ]
    }
   ],
   "source": [
    "#should be valid\n",
    "email=\"Rheeyhanfahri90@Gmail.ID\"\n",
    "if re.search(r'^\\w+@\\w+\\.(com|id|edu)$', email):\n",
    "    print(\"valid\")\n",
    "else: print(\"Invalid\")\n",
    "\n",
    "#if use re.ignorecase\n",
    "email=\"Rheeyhanfahri90@Gmail.ID\"\n",
    "if re.search(r'^\\w+@\\w+\\.(com|id|edu)$', email, flags=re.IGNORECASE):\n",
    "    print(\"valid\")\n",
    "else: print(\"Invalid\")"
   ]
  },
  {
   "cell_type": "code",
   "execution_count": 12,
   "metadata": {},
   "outputs": [
    {
     "name": "stdout",
     "output_type": "stream",
     "text": [
      "Invalid\n",
      "valid\n"
     ]
    },
    {
     "ename": "",
     "evalue": "",
     "output_type": "error",
     "traceback": [
      "\u001b[1;31mThe Kernel crashed while executing code in the the current cell or a previous cell. Please review the code in the cell(s) to identify a possible cause of the failure. Click <a href='https://aka.ms/vscodeJupyterKernelCrash'>here</a> for more info. View Jupyter <a href='command:jupyter.viewOutput'>log</a> for further details."
     ]
    }
   ],
   "source": [
    "email=\"Rheeyhanfahri90@Gmail.co.id\"\n",
    "if re.search(r'^\\w+@\\w+\\.id$', email, flags=re.IGNORECASE):\n",
    "    print(\"valid\")\n",
    "else: print(\"Invalid\")\n",
    "\n",
    "#changing so it's also gonna work for that\n",
    "if re.search(r'^\\w+@(\\w+\\.)?\\w+\\.id$', email, flags=re.IGNORECASE):\n",
    "    print(\"valid\")\n",
    "else: print(\"Invalid\")\n",
    "\n",
    "#literation:\n",
    "'''\n",
    "start\n",
    "checks for any word characters before @\n",
    "then check for any word characters ended with a . if any (zero or one max) [optional]\n",
    "checks for any character ended with a .id\n",
    "end\n",
    "'''"
   ]
  },
  {
   "cell_type": "markdown",
   "metadata": {},
   "source": [
    "Functions\n",
    "1. re.search\n",
    "2. re.match\n",
    "3. re.fullmatch\n",
    "4. re.split\n",
    "5. re.findall\n",
    "6. re.sub"
   ]
  },
  {
   "cell_type": "code",
   "execution_count": 43,
   "metadata": {},
   "outputs": [
    {
     "data": {
      "text/plain": [
       "['Ross McFluff: 834.345.1254 155 Elm Street',\n",
       " 'Ronald Heathmore: 892.345.3428 436 Finley Avenue',\n",
       " 'Frank Burger: 925.541.7625 662 South Dogwood Way',\n",
       " 'Heather Albrecht: 548.326.4584 919 Park Place']"
      ]
     },
     "execution_count": 43,
     "metadata": {},
     "output_type": "execute_result"
    }
   ],
   "source": [
    "text = \"\"\"Ross McFluff: 834.345.1254 155 Elm Street\n",
    "\n",
    "Ronald Heathmore: 892.345.3428 436 Finley Avenue\n",
    "Frank Burger: 925.541.7625 662 South Dogwood Way\n",
    "\n",
    "\n",
    "Heather Albrecht: 548.326.4584 919 Park Place\"\"\"\n",
    "\n",
    "re.split(\"\\n+\", text)"
   ]
  },
  {
   "cell_type": "code",
   "execution_count": 5,
   "metadata": {},
   "outputs": [
    {
     "data": {
      "text/plain": [
       "'defdefdef'"
      ]
     },
     "execution_count": 5,
     "metadata": {},
     "output_type": "execute_result"
    }
   ],
   "source": [
    "#seperti replace\n",
    "tes=\"abcabcabc\"\n",
    "result = re.sub('abc',  'def', tes) \n",
    "result"
   ]
  },
  {
   "cell_type": "code",
   "execution_count": 9,
   "metadata": {},
   "outputs": [
    {
     "data": {
      "text/plain": [
       "['a', 'b', 'f', 'u', 'e', 'h', 'f', '2', '1', '2', '3', 'd']"
      ]
     },
     "execution_count": 9,
     "metadata": {},
     "output_type": "execute_result"
    }
   ],
   "source": [
    "a=\"abfuehf*2123d\"\n",
    "re.findall(r\"\\w\", a)"
   ]
  }
 ],
 "metadata": {
  "kernelspec": {
   "display_name": "Python 3",
   "language": "python",
   "name": "python3"
  },
  "language_info": {
   "codemirror_mode": {
    "name": "ipython",
    "version": 3
   },
   "file_extension": ".py",
   "mimetype": "text/x-python",
   "name": "python",
   "nbconvert_exporter": "python",
   "pygments_lexer": "ipython3",
   "version": "3.11.7"
  }
 },
 "nbformat": 4,
 "nbformat_minor": 2
}
