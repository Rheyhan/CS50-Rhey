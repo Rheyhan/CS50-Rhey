{
 "cells": [
  {
   "cell_type": "markdown",
   "metadata": {},
   "source": [
    "Using RE\n",
    "\n",
    "^\n",
    "[a-zA-Z0-9.!#$%&'*+\\/=?^_`{|}~-]+\n",
    "@\n",
    "[a-zA-Z0-9]\n",
    "(?:[a-zA-Z0-9-]{0,61}[a-zA-Z0-9])?\n",
    "(?:\\.[a-zA-Z0-9](?:[a-zA-Z0-9-]{0,61}[a-zA-Z0-9])?)*\n",
    "$"
   ]
  },
  {
   "cell_type": "code",
   "execution_count": 14,
   "metadata": {},
   "outputs": [
    {
     "name": "stdout",
     "output_type": "stream",
     "text": [
      "Invalid\n"
     ]
    }
   ],
   "source": [
    "import validators\n",
    "\n",
    "def idk():\n",
    "    s=str(input(\"What's your email address?\"))\n",
    "    print(validationvalidators(s))\n",
    "\n",
    "def validationvalidators(s: str):\n",
    "    if validators.email(s):\n",
    "        return \"Valid\"\n",
    "    return \"Invalid\"\n",
    "\n",
    "if __name__ == \"__main__\":\n",
    "    idk()"
   ]
  }
 ],
 "metadata": {
  "kernelspec": {
   "display_name": "Python 3",
   "language": "python",
   "name": "python3"
  },
  "language_info": {
   "codemirror_mode": {
    "name": "ipython",
    "version": 3
   },
   "file_extension": ".py",
   "mimetype": "text/x-python",
   "name": "python",
   "nbconvert_exporter": "python",
   "pygments_lexer": "ipython3",
   "version": "3.11.7"
  }
 },
 "nbformat": 4,
 "nbformat_minor": 2
}
