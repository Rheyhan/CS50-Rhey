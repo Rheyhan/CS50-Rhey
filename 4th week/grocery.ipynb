{
 "cells": [
  {
   "cell_type": "code",
   "execution_count": null,
   "metadata": {},
   "outputs": [],
   "source": [
    "temp={}\n",
    "while(True):\n",
    "    try:\n",
    "        a=str(input())\n",
    "    except EOFError:\n",
    "        break\n",
    "    if a.upper()  not in list(temp.keys()):\n",
    "        temp[a.upper()]=1\n",
    "    else:\n",
    "        temp[a.upper()]+=1\n",
    "\n",
    "temp = {key: value for key, value in sorted(temp.items())}\n",
    "for i, j in temp.items():\n",
    "    print(f'{j} {i}')"
   ]
  }
 ],
 "metadata": {
  "kernelspec": {
   "display_name": "Python 3",
   "language": "python",
   "name": "python3"
  },
  "language_info": {
   "codemirror_mode": {
    "name": "ipython",
    "version": 3
   },
   "file_extension": ".py",
   "mimetype": "text/x-python",
   "name": "python",
   "nbconvert_exporter": "python",
   "pygments_lexer": "ipython3",
   "version": "3.11.7"
  }
 },
 "nbformat": 4,
 "nbformat_minor": 2
}
