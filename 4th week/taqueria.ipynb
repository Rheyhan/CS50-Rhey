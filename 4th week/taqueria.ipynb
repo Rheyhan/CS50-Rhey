{
 "cells": [
  {
   "cell_type": "code",
   "execution_count": 23,
   "metadata": {},
   "outputs": [
    {
     "name": "stdout",
     "output_type": "stream",
     "text": [
      "Total: $7.50\n",
      "Total: $17.00\n"
     ]
    }
   ],
   "source": [
    "menu={    \"baja taco\": 4.25,\n",
    "    \"burrito\": 7.50,\n",
    "    \"bowl\": 8.50,\n",
    "    \"nachos\": 11.00,\n",
    "    \"quesadilla\": 8.50,\n",
    "    \"super burrito\": 8.50,\n",
    "    \"super quesadilla\": 9.50,\n",
    "    \"taco\": 3.00,\n",
    "    \"tortilla salad\": 8.00\n",
    "}\n",
    "\n",
    "temp=0\n",
    "while (True):\n",
    "    try:\n",
    "        a=str(input(\"Item: \")).lower()\n",
    "    except EOFError:\n",
    "        print()\n",
    "        break\n",
    "    try:\n",
    "        temp+=(menu[a])\n",
    "        print(f'Total: ${temp:.2f}')\n",
    "    except:\n",
    "        pass"
   ]
  }
 ],
 "metadata": {
  "kernelspec": {
   "display_name": "Python 3",
   "language": "python",
   "name": "python3"
  },
  "language_info": {
   "codemirror_mode": {
    "name": "ipython",
    "version": 3
   },
   "file_extension": ".py",
   "mimetype": "text/x-python",
   "name": "python",
   "nbconvert_exporter": "python",
   "pygments_lexer": "ipython3",
   "version": "3.11.7"
  }
 },
 "nbformat": 4,
 "nbformat_minor": 2
}
