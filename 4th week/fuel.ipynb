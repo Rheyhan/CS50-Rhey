{
 "cells": [
  {
   "cell_type": "code",
   "execution_count": 44,
   "metadata": {},
   "outputs": [
    {
     "name": "stdout",
     "output_type": "stream",
     "text": [
      "50%\n"
     ]
    }
   ],
   "source": [
    "while(True):\n",
    "    try:\n",
    "        x, y=str(input(\"Fraction: \")).split(\"/\")\n",
    "        z=round(int(x)/int(y), 2)\n",
    "        if z>=0.99 and z<=1:\n",
    "            print(\"F\") ; break\n",
    "        elif z>=0 and z<=0.01: print(\"E\") ; break\n",
    "        elif z> 0 and z<1: \n",
    "            print(f'{int(z*100)}%') ; break\n",
    "    except:\n",
    "        pass"
   ]
  }
 ],
 "metadata": {
  "kernelspec": {
   "display_name": "Python 3",
   "language": "python",
   "name": "python3"
  },
  "language_info": {
   "codemirror_mode": {
    "name": "ipython",
    "version": 3
   },
   "file_extension": ".py",
   "mimetype": "text/x-python",
   "name": "python",
   "nbconvert_exporter": "python",
   "pygments_lexer": "ipython3",
   "version": "3.11.7"
  }
 },
 "nbformat": 4,
 "nbformat_minor": 2
}
