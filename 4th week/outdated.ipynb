{
 "cells": [
  {
   "cell_type": "code",
   "execution_count": 52,
   "metadata": {},
   "outputs": [
    {
     "ename": "ValueError",
     "evalue": "invalid literal for int() with base 10: 'October'",
     "output_type": "error",
     "traceback": [
      "\u001b[1;31m---------------------------------------------------------------------------\u001b[0m",
      "\u001b[1;31mValueError\u001b[0m                                Traceback (most recent call last)",
      "Cell \u001b[1;32mIn[52], line 19\u001b[0m\n\u001b[0;32m     17\u001b[0m \u001b[38;5;28;01mif\u001b[39;00m a\u001b[38;5;241m.\u001b[39mfind(\u001b[38;5;124m\"\u001b[39m\u001b[38;5;124m/\u001b[39m\u001b[38;5;124m\"\u001b[39m) \u001b[38;5;241m!=\u001b[39m \u001b[38;5;241m-\u001b[39m\u001b[38;5;241m1\u001b[39m:\n\u001b[0;32m     18\u001b[0m     a\u001b[38;5;241m=\u001b[39ma\u001b[38;5;241m.\u001b[39mreplace(\u001b[38;5;124m\"\u001b[39m\u001b[38;5;124m \u001b[39m\u001b[38;5;124m\"\u001b[39m, \u001b[38;5;124m\"\u001b[39m\u001b[38;5;124m\"\u001b[39m)\u001b[38;5;241m.\u001b[39msplit(\u001b[38;5;124m\"\u001b[39m\u001b[38;5;124m/\u001b[39m\u001b[38;5;124m\"\u001b[39m)\n\u001b[1;32m---> 19\u001b[0m     \u001b[38;5;28;01mif\u001b[39;00m \u001b[38;5;28;43mint\u001b[39;49m\u001b[43m(\u001b[49m\u001b[43ma\u001b[49m\u001b[43m[\u001b[49m\u001b[38;5;241;43m0\u001b[39;49m\u001b[43m]\u001b[49m\u001b[43m)\u001b[49m\u001b[38;5;241m<\u001b[39m\u001b[38;5;241m=\u001b[39m\u001b[38;5;241m12\u001b[39m \u001b[38;5;129;01mand\u001b[39;00m \u001b[38;5;28mint\u001b[39m(a[\u001b[38;5;241m0\u001b[39m])\u001b[38;5;241m>\u001b[39m\u001b[38;5;241m=\u001b[39m\u001b[38;5;241m1\u001b[39m \u001b[38;5;129;01mand\u001b[39;00m \u001b[38;5;28mint\u001b[39m(a[\u001b[38;5;241m1\u001b[39m])\u001b[38;5;241m<\u001b[39m\u001b[38;5;241m=\u001b[39m\u001b[38;5;241m32\u001b[39m \u001b[38;5;129;01mand\u001b[39;00m \u001b[38;5;28mint\u001b[39m(a[\u001b[38;5;241m1\u001b[39m])\u001b[38;5;241m>\u001b[39m\u001b[38;5;241m=\u001b[39m\u001b[38;5;241m1\u001b[39m:\n\u001b[0;32m     20\u001b[0m         \u001b[38;5;28mprint\u001b[39m(\u001b[38;5;124mf\u001b[39m\u001b[38;5;124m'\u001b[39m\u001b[38;5;132;01m{\u001b[39;00ma[\u001b[38;5;241m2\u001b[39m]\u001b[38;5;132;01m}\u001b[39;00m\u001b[38;5;124m-\u001b[39m\u001b[38;5;132;01m{\u001b[39;00m\u001b[38;5;28mstr\u001b[39m(a[\u001b[38;5;241m0\u001b[39m])\u001b[38;5;241m.\u001b[39mzfill(\u001b[38;5;241m2\u001b[39m)\u001b[38;5;132;01m}\u001b[39;00m\u001b[38;5;124m-\u001b[39m\u001b[38;5;132;01m{\u001b[39;00m\u001b[38;5;28mstr\u001b[39m(a[\u001b[38;5;241m1\u001b[39m])\u001b[38;5;241m.\u001b[39mzfill(\u001b[38;5;241m2\u001b[39m)\u001b[38;5;132;01m}\u001b[39;00m\u001b[38;5;124m'\u001b[39m)\n\u001b[0;32m     21\u001b[0m         \u001b[38;5;28;01mbreak\u001b[39;00m\n",
      "\u001b[1;31mValueError\u001b[0m: invalid literal for int() with base 10: 'October'"
     ]
    }
   ],
   "source": [
    "Months= [    \"January\",\n",
    "            \"February\",\n",
    "            \"March\",\n",
    "            \"April\",\n",
    "            \"May\",\n",
    "            \"June\",\n",
    "            \"July\",\n",
    "            \"August\",\n",
    "            \"September\",\n",
    "            \"October\",\n",
    "            \"November\",\n",
    "            \"December\"\n",
    "        ]\n",
    "\n",
    "while(True):\n",
    "    a=str(input(\"Date: \"))\n",
    "    if a.find(\"/\") != -1:\n",
    "        a=a.replace(\" \", \"\").split(\"/\")\n",
    "        try:\n",
    "            if int(a[0])<=12 and int(a[0])>=1 and int(a[1])<=32 and int(a[1])>=1:\n",
    "                print(f'{a[2]}-{str(a[0]).zfill(2)}-{str(a[1]).zfill(2)}')\n",
    "                break\n",
    "        except: pass\n",
    "    else:\n",
    "        try:\n",
    "            if a.find(\",\")!=-1:\n",
    "                a=(''.join(i for i in a if i.isalnum() or i.isspace())).split(\" \")\n",
    "                int(a[1])\n",
    "                temp=0\n",
    "                for i in range(len(Months)):\n",
    "                    if Months[i]==a[0]: temp=i+1\n",
    "                if int(a[1])>=1 and int(a[1])<=32:\n",
    "                    print(f'{a[2]}-{str(temp).zfill(2)}-{str(a[1]).zfill(2)}')\n",
    "                    break\n",
    "        except:\n",
    "            pass"
   ]
  },
  {
   "cell_type": "code",
   "execution_count": 28,
   "metadata": {},
   "outputs": [
    {
     "name": "stdout",
     "output_type": "stream",
     "text": [
      "1636-12-08\n"
     ]
    }
   ],
   "source": [
    "a=\"December 8, 1636\"\n",
    "a=(''.join(i for i in a if i.isalnum() or i.isspace())).split(\" \")\n",
    "temp=0\n",
    "for i in range(len(Months)):\n",
    "    if Months[i]==a[0]: temp=i+1\n",
    "print(f'{a[2]}-{str(temp).zfill(2)}-{str(a[1]).zfill(2)}')"
   ]
  }
 ],
 "metadata": {
  "kernelspec": {
   "display_name": "Python 3",
   "language": "python",
   "name": "python3"
  },
  "language_info": {
   "codemirror_mode": {
    "name": "ipython",
    "version": 3
   },
   "file_extension": ".py",
   "mimetype": "text/x-python",
   "name": "python",
   "nbconvert_exporter": "python",
   "pygments_lexer": "ipython3",
   "version": "3.11.7"
  }
 },
 "nbformat": 4,
 "nbformat_minor": 2
}
