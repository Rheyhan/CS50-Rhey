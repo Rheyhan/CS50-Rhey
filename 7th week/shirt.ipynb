{
 "cells": [
  {
   "cell_type": "code",
   "execution_count": 2,
   "metadata": {},
   "outputs": [
    {
     "ename": "SystemExit",
     "evalue": "Too few command-line arguments",
     "output_type": "error",
     "traceback": [
      "An exception has occurred, use %tb to see the full traceback.\n",
      "\u001b[1;31mSystemExit\u001b[0m\u001b[1;31m:\u001b[0m Too few command-line arguments\n"
     ]
    },
    {
     "name": "stderr",
     "output_type": "stream",
     "text": [
      "C:\\Users\\Rhey\\AppData\\Local\\Packages\\PythonSoftwareFoundation.Python.3.11_qbz5n2kfra8p0\\LocalCache\\local-packages\\Python311\\site-packages\\IPython\\core\\interactiveshell.py:3468: UserWarning: To exit: use 'exit', 'quit', or Ctrl-D.\n",
      "  warn(\"To exit: use 'exit', 'quit', or Ctrl-D.\", stacklevel=1)\n"
     ]
    }
   ],
   "source": [
    "import os\n",
    "import sys\n",
    "from PIL import Image, ImageOps\n",
    "\n",
    "allowedformat=[\"jpg\", \"jpeg\", \"png\"]\n",
    "\n",
    "if (temp:= len(sys.argv)) <= 2:\n",
    "    sys.exit(\"Too few command-line arguments\")\n",
    "elif temp >3:\n",
    "    sys.exit(\"Too many command-line arguments\")\n",
    "path=sys.argv[1]\n",
    "target=sys.argv[2]\n",
    "\n",
    "if not os.path.exists(path):\n",
    "    sys.exit(\"Input does not exist\")\n",
    "    \n",
    "if (temp:=target.split(\".\")[-1].lower()) not in allowedformat or (temp1:=path.split(\".\")[-1].lower()) not in allowedformat:\n",
    "    sys.exit(\"Invalid output\")\n",
    "\n",
    "if temp!=temp1:\n",
    "    sys.exit(\"Input and output have different extensions\")\n",
    "\n",
    "im1=Image.open(path)\n",
    "im2=Image.open(\"shirt.png\")\n",
    "size=im2.size\n",
    "im1=ImageOps.fit(im1, size)\n",
    "\n",
    "im1.paste(im2, (0, 0), im2)\n",
    "im1.save(target)"
   ]
  }
 ],
 "metadata": {
  "kernelspec": {
   "display_name": "Python 3",
   "language": "python",
   "name": "python3"
  },
  "language_info": {
   "codemirror_mode": {
    "name": "ipython",
    "version": 3
   },
   "file_extension": ".py",
   "mimetype": "text/x-python",
   "name": "python",
   "nbconvert_exporter": "python",
   "pygments_lexer": "ipython3",
   "version": "3.11.7"
  }
 },
 "nbformat": 4,
 "nbformat_minor": 2
}
