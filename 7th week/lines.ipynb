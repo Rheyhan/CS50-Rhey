{
 "cells": [
  {
   "cell_type": "code",
   "execution_count": 32,
   "metadata": {},
   "outputs": [
    {
     "name": "stdout",
     "output_type": "stream",
     "text": [
      "10\n"
     ]
    }
   ],
   "source": [
    "import sys\n",
    "import os\n",
    "\n",
    "if (counter:=len(sys.argv)) ==1:\n",
    "    sys.exit(\"Too few command-line arguments\")\n",
    "elif counter>2:\n",
    "    sys.exit(\"Too many command-line arguments\")\n",
    "\n",
    "path=sys.argv[1]\n",
    "if not os.path.exists(path):\n",
    "    sys.exit(\"File does not exist\")\n",
    "if not path.split(\".\")[-1]==\"py\":\n",
    "    sys.exit(\"Not a Python file\")\n",
    "\n",
    "with open(path, \"r\") as fh:\n",
    "    asu=fh.read()\n",
    "    print(len([i for i in asu.replace(\" \", \"\").split(\"\\n\") if len(i)>0 and not i.startswith(\"#\")]))"
   ]
  }
 ],
 "metadata": {
  "kernelspec": {
   "display_name": "Python 3",
   "language": "python",
   "name": "python3"
  },
  "language_info": {
   "codemirror_mode": {
    "name": "ipython",
    "version": 3
   },
   "file_extension": ".py",
   "mimetype": "text/x-python",
   "name": "python",
   "nbconvert_exporter": "python",
   "pygments_lexer": "ipython3",
   "version": "3.11.7"
  }
 },
 "nbformat": 4,
 "nbformat_minor": 2
}
