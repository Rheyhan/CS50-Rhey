{
 "cells": [
  {
   "cell_type": "markdown",
   "metadata": {},
   "source": [
    "What was learnt:\n",
    "1. List\n",
    "2. Open\n",
    "3. with open\n",
    "4. sorted\n",
    "5. csv\n",
    "6. sort keys\n",
    "7. lambda\n",
    "8. csv.reader\n",
    "9. csv.DictReader\n",
    "10. csv.write\n",
    "11. csv.DictWriter\n",
    "12. Pil Image"
   ]
  }
 ],
 "metadata": {
  "kernelspec": {
   "display_name": "Python 3",
   "language": "python",
   "name": "python3"
  },
  "language_info": {
   "codemirror_mode": {
    "name": "ipython",
    "version": 3
   },
   "file_extension": ".py",
   "mimetype": "text/x-python",
   "name": "python",
   "nbconvert_exporter": "python",
   "pygments_lexer": "ipython3",
   "version": "3.11.7"
  }
 },
 "nbformat": 4,
 "nbformat_minor": 2
}
