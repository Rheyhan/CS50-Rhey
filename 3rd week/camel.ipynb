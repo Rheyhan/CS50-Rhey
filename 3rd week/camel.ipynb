{
 "cells": [
  {
   "cell_type": "code",
   "execution_count": 34,
   "metadata": {},
   "outputs": [
    {
     "name": "stdout",
     "output_type": "stream",
     "text": [
      "snake_case: preferred_first_name\n"
     ]
    }
   ],
   "source": [
    "a=str(input(\"camelCase: \"))\n",
    "upperindex=[i for i in range(len(a)) if a[i].isupper()]\n",
    "a=[i for i in a]\n",
    "\n",
    "for i in upperindex:\n",
    "    a[i]=f'_{a[i].lower()}'\n",
    "    \n",
    "print(f'snake_case: {\"\".join(i for i in a)}')"
   ]
  }
 ],
 "metadata": {
  "kernelspec": {
   "display_name": "Python 3",
   "language": "python",
   "name": "python3"
  },
  "language_info": {
   "codemirror_mode": {
    "name": "ipython",
    "version": 3
   },
   "file_extension": ".py",
   "mimetype": "text/x-python",
   "name": "python",
   "nbconvert_exporter": "python",
   "pygments_lexer": "ipython3",
   "version": "3.11.7"
  }
 },
 "nbformat": 4,
 "nbformat_minor": 2
}
