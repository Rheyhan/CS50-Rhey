{
 "cells": [
  {
   "cell_type": "code",
   "execution_count": 19,
   "metadata": {},
   "outputs": [
    {
     "name": "stdout",
     "output_type": "stream",
     "text": [
      "Output: Wht's yr nm?\n"
     ]
    }
   ],
   "source": [
    "forbidden=[]\n",
    "for i in [\"a\", \"i\", \"u\", \"e\", \"o\"]: forbidden.append(i.upper()); forbidden.append(i.lower())\n",
    "tmp=''.join([i for i in input(\"Input: \") if i not in forbidden])\n",
    "print(f'Output: {tmp}')"
   ]
  }
 ],
 "metadata": {
  "kernelspec": {
   "display_name": "Python 3",
   "language": "python",
   "name": "python3"
  },
  "language_info": {
   "codemirror_mode": {
    "name": "ipython",
    "version": 3
   },
   "file_extension": ".py",
   "mimetype": "text/x-python",
   "name": "python",
   "nbconvert_exporter": "python",
   "pygments_lexer": "ipython3",
   "version": "3.11.7"
  }
 },
 "nbformat": 4,
 "nbformat_minor": 2
}
