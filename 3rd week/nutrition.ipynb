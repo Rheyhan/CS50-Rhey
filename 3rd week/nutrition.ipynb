{
 "cells": [
  {
   "cell_type": "code",
   "execution_count": 6,
   "metadata": {},
   "outputs": [],
   "source": [
    "idk={\n",
    "    \"apple\": 130,\n",
    "    \"avocado\": 50,\n",
    "    \"banana\" : 110,\n",
    "    \"cantaloupe\" : 50,\n",
    "    \"grapefruit\" : 60,\n",
    "    \"grapes\" : 90,\n",
    "    \"honeydew\" : 50,\n",
    "    \"kiwifruit\": 90,\n",
    "    \"lemon\" : 15,\n",
    "    \"lime\" : 20,\n",
    "    \"nectarine\" : 60,\n",
    "    \"orange\" : 80,\n",
    "    \"peach\" : 60,\n",
    "    \"pear\" : 100,\n",
    "    \"pineapple\" : 50,\n",
    "    \"plums\": 70,\n",
    "    \"strawberries\" : 50,\n",
    "    \"sweet cherries\": 100,\n",
    "    \"tangerine\": 50,\n",
    "    \"watermelon\" : 80\n",
    "}\n",
    "try:\n",
    "    print(f'Calories: {idk[str(input(\"Item: \")).lower()]}')\n",
    "except:\n",
    "    pass"
   ]
  }
 ],
 "metadata": {
  "kernelspec": {
   "display_name": "Python 3",
   "language": "python",
   "name": "python3"
  },
  "language_info": {
   "codemirror_mode": {
    "name": "ipython",
    "version": 3
   },
   "file_extension": ".py",
   "mimetype": "text/x-python",
   "name": "python",
   "nbconvert_exporter": "python",
   "pygments_lexer": "ipython3",
   "version": "3.11.7"
  }
 },
 "nbformat": 4,
 "nbformat_minor": 2
}
