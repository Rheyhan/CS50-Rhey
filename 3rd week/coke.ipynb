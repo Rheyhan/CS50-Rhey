{
 "cells": [
  {
   "cell_type": "code",
   "execution_count": 12,
   "metadata": {},
   "outputs": [
    {
     "name": "stdout",
     "output_type": "stream",
     "text": [
      "Amount Due: 50\n",
      "Amount Due: 25\n",
      "Amount Due: 15\n",
      "Change Owed: 10\n"
     ]
    }
   ],
   "source": [
    "usable=[5, 10, 25, 50]\n",
    "counter=0\n",
    "while (counter<50):\n",
    "    print(f'Amount Due: {50-counter}')\n",
    "    a=int(input(\"Insert Coin: \"))\n",
    "    if a in usable: counter+=a\n",
    "print(f'Change Owed: {counter-50}')"
   ]
  },
  {
   "cell_type": "code",
   "execution_count": null,
   "metadata": {},
   "outputs": [],
   "source": []
  }
 ],
 "metadata": {
  "kernelspec": {
   "display_name": "Python 3",
   "language": "python",
   "name": "python3"
  },
  "language_info": {
   "codemirror_mode": {
    "name": "ipython",
    "version": 3
   },
   "file_extension": ".py",
   "mimetype": "text/x-python",
   "name": "python",
   "nbconvert_exporter": "python",
   "pygments_lexer": "ipython3",
   "version": "3.11.7"
  }
 },
 "nbformat": 4,
 "nbformat_minor": 2
}
